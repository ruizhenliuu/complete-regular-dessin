{
 "cells": [
  {
   "cell_type": "code",
   "execution_count": 3,
   "id": "d6bb1cc0",
   "metadata": {},
   "outputs": [],
   "source": [
    "%display latex"
   ]
  },
  {
   "cell_type": "code",
   "execution_count": 2,
   "id": "f41fce74",
   "metadata": {},
   "outputs": [],
   "source": [
    "u=(4320/30)^(1/4)*I\n",
    "x,y = var('x y')"
   ]
  },
  {
   "cell_type": "code",
   "execution_count": 19,
   "id": "2c25f17a",
   "metadata": {},
   "outputs": [
    {
     "data": {
      "text/html": [
       "<html>\\(\\displaystyle \\left(\\left( x, y \\right) \\ {\\mapsto} \\ \\left(-\\frac{1}{3} \\, x - \\frac{4}{3},\\,-\\frac{1}{27} i \\cdot 9^{\\frac{3}{4}} y\\right), \\left( x, y \\right) \\ {\\mapsto} \\ x^{3} + 4 \\, x^{2} - y^{2} + 2 \\, x\\right)\\)</html>"
      ],
      "text/latex": [
       "$\\displaystyle \\left(\\left( x, y \\right) \\ {\\mapsto} \\ \\left(-\\frac{1}{3} \\, x - \\frac{4}{3},\\,-\\frac{1}{27} i \\cdot 9^{\\frac{3}{4}} y\\right), \\left( x, y \\right) \\ {\\mapsto} \\ x^{3} + 4 \\, x^{2} - y^{2} + 2 \\, x\\right)$"
      ],
      "text/plain": [
       "((x, y) |--> (-1/3*x - 4/3, -1/27*I*9^(3/4)*y),\n",
       " (x, y) |--> x^3 + 4*x^2 - y^2 + 2*x)"
      ]
     },
     "execution_count": 19,
     "metadata": {},
     "output_type": "execute_result"
    }
   ],
   "source": [
    "T(x,y) = [(u^2*x-48)/36, u^3*y/216]\n",
    "f(x,y) =  x^3+4*x^2+2*x-y^2\n",
    "T,f"
   ]
  },
  {
   "cell_type": "code",
   "execution_count": 20,
   "id": "f53634a3",
   "metadata": {},
   "outputs": [
    {
     "data": {
      "text/html": [
       "<html>\\(\\displaystyle -\\frac{1}{27} \\, {\\left(x + 4\\right)}^{3} + \\frac{4}{9} \\, {\\left(x + 4\\right)}^{2} + \\frac{1}{27} \\, y^{2} - \\frac{2}{3} \\, x - \\frac{8}{3}\\)</html>"
      ],
      "text/latex": [
       "$\\displaystyle -\\frac{1}{27} \\, {\\left(x + 4\\right)}^{3} + \\frac{4}{9} \\, {\\left(x + 4\\right)}^{2} + \\frac{1}{27} \\, y^{2} - \\frac{2}{3} \\, x - \\frac{8}{3}$"
      ],
      "text/plain": [
       "-1/27*(x + 4)^3 + 4/9*(x + 4)^2 + 1/27*y^2 - 2/3*x - 8/3"
      ]
     },
     "execution_count": 20,
     "metadata": {},
     "output_type": "execute_result"
    }
   ],
   "source": [
    "eqn = f(*T(x,y))\n",
    "eqn"
   ]
  },
  {
   "cell_type": "code",
   "execution_count": 21,
   "id": "70544bb2",
   "metadata": {
    "scrolled": true
   },
   "outputs": [
    {
     "data": {
      "text/html": [
       "<html>\\(\\displaystyle 0\\)</html>"
      ],
      "text/latex": [
       "$\\displaystyle 0$"
      ],
      "text/plain": [
       "0"
      ]
     },
     "execution_count": 21,
     "metadata": {},
     "output_type": "execute_result"
    }
   ],
   "source": [
    "eqn.subs(\n",
    "    y^2==x^3-30*x-56\n",
    ").expand()"
   ]
  },
  {
   "cell_type": "code",
   "execution_count": 70,
   "id": "46a9d256",
   "metadata": {},
   "outputs": [
    {
     "ename": "NameError",
     "evalue": "name 'u' is not defined",
     "output_type": "error",
     "traceback": [
      "\u001b[0;31m---------------------------------------------------------------------------\u001b[0m",
      "\u001b[0;31mNameError\u001b[0m                                 Traceback (most recent call last)",
      "Cell \u001b[0;32mIn[70], line 1\u001b[0m\n\u001b[0;32m----> 1\u001b[0m __tmp__\u001b[38;5;241m=\u001b[39mvar(\u001b[38;5;124m\"\u001b[39m\u001b[38;5;124mx,y\u001b[39m\u001b[38;5;124m\"\u001b[39m); T_inv \u001b[38;5;241m=\u001b[39m symbolic_expression([(Integer(\u001b[38;5;241m36\u001b[39m)\u001b[38;5;241m*\u001b[39mx\u001b[38;5;241m+\u001b[39mInteger(\u001b[38;5;241m48\u001b[39m))\u001b[38;5;241m/\u001b[39mu\u001b[38;5;241m*\u001b[39m\u001b[38;5;241m*\u001b[39mInteger(\u001b[38;5;241m2\u001b[39m), Integer(\u001b[38;5;241m216\u001b[39m)\u001b[38;5;241m/\u001b[39mu\u001b[38;5;241m*\u001b[39m\u001b[38;5;241m*\u001b[39mInteger(\u001b[38;5;241m3\u001b[39m) \u001b[38;5;241m*\u001b[39my])\u001b[38;5;241m.\u001b[39mfunction(x,y)\n\u001b[1;32m      2\u001b[0m __tmp__\u001b[38;5;241m=\u001b[39mvar(\u001b[38;5;124m\"\u001b[39m\u001b[38;5;124mx,y\u001b[39m\u001b[38;5;124m\"\u001b[39m); g \u001b[38;5;241m=\u001b[39m symbolic_expression(x\u001b[38;5;241m*\u001b[39m\u001b[38;5;241m*\u001b[39mInteger(\u001b[38;5;241m3\u001b[39m)\u001b[38;5;241m-\u001b[39mInteger(\u001b[38;5;241m30\u001b[39m)\u001b[38;5;241m*\u001b[39mx\u001b[38;5;241m-\u001b[39mInteger(\u001b[38;5;241m56\u001b[39m)\u001b[38;5;241m-\u001b[39my\u001b[38;5;241m*\u001b[39m\u001b[38;5;241m*\u001b[39mInteger(\u001b[38;5;241m2\u001b[39m))\u001b[38;5;241m.\u001b[39mfunction(x,y)\n\u001b[1;32m      3\u001b[0m T_inv,g\n",
      "\u001b[0;31mNameError\u001b[0m: name 'u' is not defined"
     ]
    }
   ],
   "source": [
    "T_inv(x,y) = [(36*x+48)/u^2, 216/u^3 *y]\n",
    "g(x,y) = x^3-30*x-56-y^2\n",
    "T_inv,g"
   ]
  },
  {
   "cell_type": "code",
   "execution_count": 40,
   "id": "f45463f4",
   "metadata": {},
   "outputs": [
    {
     "data": {
      "text/html": [
       "<html>\\(\\displaystyle 0\\)</html>"
      ],
      "text/latex": [
       "$\\displaystyle 0$"
      ],
      "text/plain": [
       "0"
      ]
     },
     "execution_count": 40,
     "metadata": {},
     "output_type": "execute_result"
    }
   ],
   "source": [
    "g(*T_inv(x,y)).subs(y^2==x^3+4*x^2+2*x).expand()"
   ]
  },
  {
   "cell_type": "markdown",
   "id": "3fb2fc8e-000b-4458-b1a6-792c29f1ac61",
   "metadata": {},
   "source": [
    "## abel-jacobi computation again"
   ]
  },
  {
   "cell_type": "code",
   "execution_count": 4,
   "id": "3a8bd348",
   "metadata": {},
   "outputs": [
    {
     "data": {
      "text/html": [
       "<html>\\(\\displaystyle \\left( x, y \\right) \\ {\\mapsto} \\ y^{2} = {\\left(x^{2} - \\left(i - 1\\right) \\, x - i\\right)} {\\left(x^{2} + \\left(i - 1\\right) \\, x - i\\right)} x\\)</html>"
      ],
      "text/latex": [
       "$\\displaystyle \\left( x, y \\right) \\ {\\mapsto} \\ y^{2} = {\\left(x^{2} - \\left(i - 1\\right) \\, x - i\\right)} {\\left(x^{2} + \\left(i - 1\\right) \\, x - i\\right)} x$"
      ],
      "text/plain": [
       "(x, y) |--> y^2 == (x^2 - (I - 1)*x - I)*(x^2 + (I - 1)*x - I)*x"
      ]
     },
     "execution_count": 4,
     "metadata": {},
     "output_type": "execute_result"
    }
   ],
   "source": [
    "x,y,X = var('x y X')\n",
    "f(x,y) = y^2 == x*((x+1)*(x-I)).full_simplify()*((x-1)*(x+I)).full_simplify()\n",
    "f"
   ]
  },
  {
   "cell_type": "code",
   "execution_count": 5,
   "id": "229f0d0d-21aa-46a2-bcc0-4c7bf98ae0c8",
   "metadata": {},
   "outputs": [
    {
     "data": {
      "text/html": [
       "<html>\\(\\displaystyle y^{2} = -\\frac{8 \\, {\\left(x^{4} - x^{3} + x^{2} - x\\right)}}{x^{5} + 5 \\, x^{4} + 10 \\, x^{3} + 10 \\, x^{2} + 5 \\, x + 1}\\)</html>"
      ],
      "text/latex": [
       "$\\displaystyle y^{2} = -\\frac{8 \\, {\\left(x^{4} - x^{3} + x^{2} - x\\right)}}{x^{5} + 5 \\, x^{4} + 10 \\, x^{3} + 10 \\, x^{2} + 5 \\, x + 1}$"
      ],
      "text/plain": [
       "y^2 == -8*(x^4 - x^3 + x^2 - x)/(x^5 + 5*x^4 + 10*x^3 + 10*x^2 + 5*x + 1)"
      ]
     },
     "execution_count": 5,
     "metadata": {},
     "output_type": "execute_result"
    }
   ],
   "source": [
    "f((x-1)/(x+1),y).full_simplify()"
   ]
  },
  {
   "cell_type": "code",
   "execution_count": 6,
   "id": "7638e87b-ff55-4009-84d5-2b33b36dc436",
   "metadata": {},
   "outputs": [
    {
     "data": {
      "text/html": [
       "<html>\\(\\displaystyle -\\left(\\frac{1}{2} i - \\frac{1}{2}\\right) \\, \\sqrt{2}\\)</html>"
      ],
      "text/latex": [
       "$\\displaystyle -\\left(\\frac{1}{2} i - \\frac{1}{2}\\right) \\, \\sqrt{2}$"
      ],
      "text/plain": [
       "-(1/2*I - 1/2)*sqrt(2)"
      ]
     },
     "execution_count": 6,
     "metadata": {},
     "output_type": "execute_result"
    }
   ],
   "source": [
    "alpha = sqrt(2)*(1-i)/2;\n",
    "alpha"
   ]
  },
  {
   "cell_type": "code",
   "execution_count": 7,
   "id": "d582dfed-fa7b-4c34-94a4-6eb40fa6e030",
   "metadata": {},
   "outputs": [],
   "source": [
    "pencil(Q1,Q2)=Q1*((x-alpha)^2)+Q2*((x+alpha)^2)"
   ]
  },
  {
   "cell_type": "code",
   "execution_count": 8,
   "id": "d120eeaf-a7b6-448d-ab7b-f49b1a725fcf",
   "metadata": {},
   "outputs": [
    {
     "data": {
      "text/html": [
       "<html>\\(\\displaystyle \\left(x^{2} - \\left(i - 1\\right) \\, x - i, x^{2} + \\left(i - 1\\right) \\, x - i, x\\right)\\)</html>"
      ],
      "text/latex": [
       "$\\displaystyle \\left(x^{2} - \\left(i - 1\\right) \\, x - i, x^{2} + \\left(i - 1\\right) \\, x - i, x\\right)$"
      ],
      "text/plain": [
       "(x^2 - (I - 1)*x - I, x^2 + (I - 1)*x - I, x)"
      ]
     },
     "execution_count": 8,
     "metadata": {},
     "output_type": "execute_result"
    }
   ],
   "source": [
    "a=((1-I)/(2*alpha)+1)/2\n",
    "pencil(1-a,a).full_simplify(),pencil(a,1-a).full_simplify(),pencil(-i*alpha/4,i*alpha/4).full_simplify()"
   ]
  },
  {
   "cell_type": "code",
   "execution_count": 9,
   "id": "b6710462-8de4-49b0-88dd-d49e047cb974",
   "metadata": {},
   "outputs": [
    {
     "data": {
      "text/html": [
       "<html>\\(\\displaystyle y^{2} = x^{5} - x\\)</html>"
      ],
      "text/latex": [
       "$\\displaystyle y^{2} = x^{5} - x$"
      ],
      "text/plain": [
       "y^2 == x^5 - x"
      ]
     },
     "execution_count": 9,
     "metadata": {},
     "output_type": "execute_result"
    }
   ],
   "source": [
    "g(x,y) = y^2==pencil(1-a,a).full_simplify()*pencil(a,1-a).full_simplify()*pencil(-I*alpha/4,I*alpha/4).full_simplify()\n",
    "g(x,y).full_simplify()"
   ]
  },
  {
   "cell_type": "code",
   "execution_count": 37,
   "id": "a78bc143-3b1a-4121-b415-244e67b29819",
   "metadata": {},
   "outputs": [
    {
     "data": {
      "text/html": [
       "<html>\\(\\displaystyle \\left(-\\frac{6}{25} i - \\frac{58}{25},\\,\\left(\\frac{27}{1000} i - \\frac{39}{1000}\\right) \\, \\sqrt{6} \\sqrt{3} 2^{\\frac{3}{4}} \\sqrt{\\left(16 i - 16\\right) \\, \\sqrt{2}}\\right)\\)</html>"
      ],
      "text/latex": [
       "$\\displaystyle \\left(-\\frac{6}{25} i - \\frac{58}{25},\\,\\left(\\frac{27}{1000} i - \\frac{39}{1000}\\right) \\, \\sqrt{6} \\sqrt{3} 2^{\\frac{3}{4}} \\sqrt{\\left(16 i - 16\\right) \\, \\sqrt{2}}\\right)$"
      ],
      "text/plain": [
       "(-6/25*I - 58/25, (27/1000*I - 39/1000)*sqrt(6)*sqrt(3)*2^(3/4)*sqrt((16*I - 16)*sqrt(2)))"
      ]
     },
     "execution_count": 37,
     "metadata": {},
     "output_type": "execute_result"
    }
   ],
   "source": [
    "beta = sqrt(8/(-I*alpha/4))\n",
    "flt(x,y) = [(x-alpha)/(x+alpha),beta*y/(x+alpha)^3] # change of variables\n",
    "flt_inv(x,y) = [(x + 1)/(-x/alpha+1/alpha),y]\n",
    "AJ(x,y) = [x^2,y,1/x^2,y/x^3] # abel-jacobi\n",
    "res = AJ(*flt(sqrt(2), sqrt(sqrt(2)^5-sqrt(2)))) # evaluate at x=11/10\n",
    "F(x,y) =x^3+5*x^2-5*x-1-y^2\n",
    "# F(*res[:2]).full_simplify()\n",
    "Cov2(x,y)= [36*(x+5/3)/(2*I*sqrt(6))^2,216*y/(2*I*sqrt(6))^3]\n",
    "Cov2(*res)[0"
   ]
  },
  {
   "cell_type": "code",
   "execution_count": 11,
   "id": "fa011812-0d4b-4412-bb27-04cfe6078059",
   "metadata": {},
   "outputs": [
    {
     "data": {
      "text/html": [
       "<html>\\(\\displaystyle \\left(\\left(\\frac{1}{64} i + \\frac{1}{64}\\right) \\, \\sqrt{2} x^{6} + \\left(\\frac{5}{64} i + \\frac{5}{64}\\right) \\, \\sqrt{2} x^{4} - \\left(\\frac{5}{64} i + \\frac{5}{64}\\right) \\, \\sqrt{2} x^{2} + y^{2} - \\left(\\frac{1}{64} i + \\frac{1}{64}\\right) \\, \\sqrt{2}, -x^{6} - 5 \\, x^{4} + 5 \\, x^{2} + y^{2} + 1\\right)\\)</html>"
      ],
      "text/latex": [
       "$\\displaystyle \\left(\\left(\\frac{1}{64} i + \\frac{1}{64}\\right) \\, \\sqrt{2} x^{6} + \\left(\\frac{5}{64} i + \\frac{5}{64}\\right) \\, \\sqrt{2} x^{4} - \\left(\\frac{5}{64} i + \\frac{5}{64}\\right) \\, \\sqrt{2} x^{2} + y^{2} - \\left(\\frac{1}{64} i + \\frac{1}{64}\\right) \\, \\sqrt{2}, -x^{6} - 5 \\, x^{4} + 5 \\, x^{2} + y^{2} + 1\\right)$"
      ],
      "text/plain": [
       "((1/64*I + 1/64)*sqrt(2)*x^6 + (5/64*I + 5/64)*sqrt(2)*x^4 - (5/64*I + 5/64)*sqrt(2)*x^2 + y^2 - (1/64*I + 1/64)*sqrt(2),\n",
       " -x^6 - 5*x^4 + 5*x^2 + y^2 + 1)"
      ]
     },
     "execution_count": 11,
     "metadata": {},
     "output_type": "execute_result"
    }
   ],
   "source": [
    "beta = (-I*alpha/4)^(3/2)*sqrt(2)\n",
    "ggg(x,y) = (y^2 - ((1-a)*x^2+a)*(a*x^2+(1-a))*((-I*alpha/4)*x^2+I*alpha/4))\n",
    "gg(x,y) = (y^2 - ((1-a)*x^2+a)*(a*x^2+(1-a))*(8*x^2-8))\n",
    "ggg(x,y).full_simplify(),(gg(x,y)).full_simplify()"
   ]
  },
  {
   "cell_type": "code",
   "execution_count": 15,
   "id": "ddd847e9-9c38-4361-82f5-2b2ecd62837b",
   "metadata": {},
   "outputs": [
    {
     "data": {
      "text/html": [
       "<html>\\(\\displaystyle -\\left(\\frac{10370976}{48828125} i + \\frac{4702368}{48828125}\\right) \\, \\sqrt{2} + \\frac{15456}{15625} i + \\frac{7008}{15625}\\)</html>"
      ],
      "text/latex": [
       "$\\displaystyle -\\left(\\frac{10370976}{48828125} i + \\frac{4702368}{48828125}\\right) \\, \\sqrt{2} + \\frac{15456}{15625} i + \\frac{7008}{15625}$"
      ],
      "text/plain": [
       "-(10370976/48828125*I + 4702368/48828125)*sqrt(2) + 15456/15625*I + 7008/15625"
      ]
     },
     "execution_count": 15,
     "metadata": {},
     "output_type": "execute_result"
    }
   ],
   "source": [
    "beta = sqrt(8/(-I*alpha/4))\n",
    "flt(x,y) = [(x-alpha)/(x+alpha), beta*y/(x+alpha)^3] # change of variables\n",
    "gg(*flt(sqrt(2), sqrt(sqrt(2)^5-sqr).full_simplify()"
   ]
  },
  {
   "cell_type": "code",
   "execution_count": 13,
   "id": "70fc9538-5661-4517-bff1-0b040a507381",
   "metadata": {},
   "outputs": [
    {
     "data": {
      "text/html": [
       "<html>\\(\\displaystyle \\left(\\frac{1}{64} i + \\frac{1}{64}\\right) \\, \\sqrt{2} x^{6} + \\left(\\frac{5}{64} i + \\frac{5}{64}\\right) \\, \\sqrt{2} x^{4} - \\left(\\frac{5}{64} i + \\frac{5}{64}\\right) \\, \\sqrt{2} x^{2} + y^{2} - \\left(\\frac{1}{64} i + \\frac{1}{64}\\right) \\, \\sqrt{2}\\)</html>"
      ],
      "text/latex": [
       "$\\displaystyle \\left(\\frac{1}{64} i + \\frac{1}{64}\\right) \\, \\sqrt{2} x^{6} + \\left(\\frac{5}{64} i + \\frac{5}{64}\\right) \\, \\sqrt{2} x^{4} - \\left(\\frac{5}{64} i + \\frac{5}{64}\\right) \\, \\sqrt{2} x^{2} + y^{2} - \\left(\\frac{1}{64} i + \\frac{1}{64}\\right) \\, \\sqrt{2}$"
      ],
      "text/plain": [
       "(1/64*I + 1/64)*sqrt(2)*x^6 + (5/64*I + 5/64)*sqrt(2)*x^4 - (5/64*I + 5/64)*sqrt(2)*x^2 + y^2 - (1/64*I + 1/64)*sqrt(2)"
      ]
     },
     "execution_count": 13,
     "metadata": {},
     "output_type": "execute_result"
    }
   ],
   "source": [
    " (y^2 - ((1-a)*x^2+a)*(a*x^2+(1-a))*((-I*alpha/4)*x^2+I*alpha/4)).full_simplify()"
   ]
  },
  {
   "cell_type": "code",
   "execution_count": 14,
   "id": "064afb52-ce51-411a-a70c-944f70cfd888",
   "metadata": {},
   "outputs": [
    {
     "data": {
      "text/html": [
       "<html>\\(\\displaystyle -\\frac{16 \\, {\\left(-\\left(i - 1\\right) \\, \\sqrt{2} x^{23} - 36 i \\, x^{22} - \\left(153 i + 153\\right) \\, \\sqrt{2} x^{21} - 1632 \\, x^{20} + \\left(3061 i - 3061\\right) \\, \\sqrt{2} x^{19} + 17172 i \\, x^{18} + \\left(18717 i + 18717\\right) \\, \\sqrt{2} x^{17} + 65280 \\, x^{16} - \\left(46818 i - 46818\\right) \\, \\sqrt{2} x^{15} - 114376 i \\, x^{14} - \\left(62322 i + 62322\\right) \\, \\sqrt{2} x^{13} - 127296 \\, x^{12} + \\left(62322 i - 62322\\right) \\, \\sqrt{2} x^{11} + 114376 i \\, x^{10} + \\left(46818 i + 46818\\right) \\, \\sqrt{2} x^{9} + 65280 \\, x^{8} - \\left(18717 i - 18717\\right) \\, \\sqrt{2} x^{7} - 17172 i \\, x^{6} - \\left(3061 i + 3061\\right) \\, \\sqrt{2} x^{5} - 1632 \\, x^{4} + \\left(153 i - 153\\right) \\, \\sqrt{2} x^{3} - {\\left(-\\left(i - 1\\right) \\, \\sqrt{2} x^{18} - 36 i \\, x^{17} - \\left(153 i + 153\\right) \\, \\sqrt{2} x^{16} - 1632 \\, x^{15} + \\left(3060 i - 3060\\right) \\, \\sqrt{2} x^{14} + 17136 i \\, x^{13} + \\left(18564 i + 18564\\right) \\, \\sqrt{2} x^{12} + 63648 \\, x^{11} - \\left(43758 i - 43758\\right) \\, \\sqrt{2} x^{10} - 97240 i \\, x^{9} - \\left(43758 i + 43758\\right) \\, \\sqrt{2} x^{8} - 63648 \\, x^{7} + \\left(18564 i - 18564\\right) \\, \\sqrt{2} x^{6} + 17136 i \\, x^{5} + \\left(3060 i + 3060\\right) \\, \\sqrt{2} x^{4} + 1632 \\, x^{3} - \\left(153 i - 153\\right) \\, \\sqrt{2} x^{2} - 36 i \\, x - \\left(i + 1\\right) \\, \\sqrt{2}\\right)} y^{2} + 36 i \\, x^{2} + \\left(i + 1\\right) \\, \\sqrt{2} x\\right)}}{{\\left(x^{18} - \\left(9 i - 9\\right) \\, \\sqrt{2} x^{17} - 153 i \\, x^{16} - \\left(408 i + 408\\right) \\, \\sqrt{2} x^{15} - 3060 \\, x^{14} + \\left(4284 i - 4284\\right) \\, \\sqrt{2} x^{13} + 18564 i \\, x^{12} + \\left(15912 i + 15912\\right) \\, \\sqrt{2} x^{11} + 43758 \\, x^{10} - \\left(24310 i - 24310\\right) \\, \\sqrt{2} x^{9} - 43758 i \\, x^{8} - \\left(15912 i + 15912\\right) \\, \\sqrt{2} x^{7} - 18564 \\, x^{6} + \\left(4284 i - 4284\\right) \\, \\sqrt{2} x^{5} + 3060 i \\, x^{4} + \\left(408 i + 408\\right) \\, \\sqrt{2} x^{3} + 153 \\, x^{2} - \\left(9 i - 9\\right) \\, \\sqrt{2} x - i\\right)} \\sqrt{\\left(16 i - 16\\right) \\, \\sqrt{2}}}\\)</html>"
      ],
      "text/latex": [
       "$\\displaystyle -\\frac{16 \\, {\\left(-\\left(i - 1\\right) \\, \\sqrt{2} x^{23} - 36 i \\, x^{22} - \\left(153 i + 153\\right) \\, \\sqrt{2} x^{21} - 1632 \\, x^{20} + \\left(3061 i - 3061\\right) \\, \\sqrt{2} x^{19} + 17172 i \\, x^{18} + \\left(18717 i + 18717\\right) \\, \\sqrt{2} x^{17} + 65280 \\, x^{16} - \\left(46818 i - 46818\\right) \\, \\sqrt{2} x^{15} - 114376 i \\, x^{14} - \\left(62322 i + 62322\\right) \\, \\sqrt{2} x^{13} - 127296 \\, x^{12} + \\left(62322 i - 62322\\right) \\, \\sqrt{2} x^{11} + 114376 i \\, x^{10} + \\left(46818 i + 46818\\right) \\, \\sqrt{2} x^{9} + 65280 \\, x^{8} - \\left(18717 i - 18717\\right) \\, \\sqrt{2} x^{7} - 17172 i \\, x^{6} - \\left(3061 i + 3061\\right) \\, \\sqrt{2} x^{5} - 1632 \\, x^{4} + \\left(153 i - 153\\right) \\, \\sqrt{2} x^{3} - {\\left(-\\left(i - 1\\right) \\, \\sqrt{2} x^{18} - 36 i \\, x^{17} - \\left(153 i + 153\\right) \\, \\sqrt{2} x^{16} - 1632 \\, x^{15} + \\left(3060 i - 3060\\right) \\, \\sqrt{2} x^{14} + 17136 i \\, x^{13} + \\left(18564 i + 18564\\right) \\, \\sqrt{2} x^{12} + 63648 \\, x^{11} - \\left(43758 i - 43758\\right) \\, \\sqrt{2} x^{10} - 97240 i \\, x^{9} - \\left(43758 i + 43758\\right) \\, \\sqrt{2} x^{8} - 63648 \\, x^{7} + \\left(18564 i - 18564\\right) \\, \\sqrt{2} x^{6} + 17136 i \\, x^{5} + \\left(3060 i + 3060\\right) \\, \\sqrt{2} x^{4} + 1632 \\, x^{3} - \\left(153 i - 153\\right) \\, \\sqrt{2} x^{2} - 36 i \\, x - \\left(i + 1\\right) \\, \\sqrt{2}\\right)} y^{2} + 36 i \\, x^{2} + \\left(i + 1\\right) \\, \\sqrt{2} x\\right)}}{{\\left(x^{18} - \\left(9 i - 9\\right) \\, \\sqrt{2} x^{17} - 153 i \\, x^{16} - \\left(408 i + 408\\right) \\, \\sqrt{2} x^{15} - 3060 \\, x^{14} + \\left(4284 i - 4284\\right) \\, \\sqrt{2} x^{13} + 18564 i \\, x^{12} + \\left(15912 i + 15912\\right) \\, \\sqrt{2} x^{11} + 43758 \\, x^{10} - \\left(24310 i - 24310\\right) \\, \\sqrt{2} x^{9} - 43758 i \\, x^{8} - \\left(15912 i + 15912\\right) \\, \\sqrt{2} x^{7} - 18564 \\, x^{6} + \\left(4284 i - 4284\\right) \\, \\sqrt{2} x^{5} + 3060 i \\, x^{4} + \\left(408 i + 408\\right) \\, \\sqrt{2} x^{3} + 153 \\, x^{2} - \\left(9 i - 9\\right) \\, \\sqrt{2} x - i\\right)} \\sqrt{\\left(16 i - 16\\right) \\, \\sqrt{2}}}$"
      ],
      "text/plain": [
       "-16*(-(I - 1)*sqrt(2)*x^23 - 36*I*x^22 - (153*I + 153)*sqrt(2)*x^21 - 1632*x^20 + (3061*I - 3061)*sqrt(2)*x^19 + 17172*I*x^18 + (18717*I + 18717)*sqrt(2)*x^17 + 65280*x^16 - (46818*I - 46818)*sqrt(2)*x^15 - 114376*I*x^14 - (62322*I + 62322)*sqrt(2)*x^13 - 127296*x^12 + (62322*I - 62322)*sqrt(2)*x^11 + 114376*I*x^10 + (46818*I + 46818)*sqrt(2)*x^9 + 65280*x^8 - (18717*I - 18717)*sqrt(2)*x^7 - 17172*I*x^6 - (3061*I + 3061)*sqrt(2)*x^5 - 1632*x^4 + (153*I - 153)*sqrt(2)*x^3 - (-(I - 1)*sqrt(2)*x^18 - 36*I*x^17 - (153*I + 153)*sqrt(2)*x^16 - 1632*x^15 + (3060*I - 3060)*sqrt(2)*x^14 + 17136*I*x^13 + (18564*I + 18564)*sqrt(2)*x^12 + 63648*x^11 - (43758*I - 43758)*sqrt(2)*x^10 - 97240*I*x^9 - (43758*I + 43758)*sqrt(2)*x^8 - 63648*x^7 + (18564*I - 18564)*sqrt(2)*x^6 + 17136*I*x^5 + (3060*I + 3060)*sqrt(2)*x^4 + 1632*x^3 - (153*I - 153)*sqrt(2)*x^2 - 36*I*x - (I + 1)*sqrt(2))*y^2 + 36*I*x^2 + (I + 1)*sqrt(2)*x)/((x^18 - (9*I - 9)*sqrt(2)*x^17 - 153*I*x^16 - (408*I + 408)*sqrt(2)*x^15 - 3060*x^14 + (4284*I - 4284)*sqrt(2)*x^13 + 18564*I*x^12 + (15912*I + 15912)*sqrt(2)*x^11 + 43758*x^10 - (24310*I - 24310)*sqrt(2)*x^9 - 43758*I*x^8 - (15912*I + 15912)*sqrt(2)*x^7 - 18564*x^6 + (4284*I - 4284)*sqrt(2)*x^5 + 3060*I*x^4 + (408*I + 408)*sqrt(2)*x^3 + 153*x^2 - (9*I - 9)*sqrt(2)*x - I)*sqrt((16*I - 16)*sqrt(2)))"
      ]
     },
     "execution_count": 14,
     "metadata": {},
     "output_type": "execute_result"
    }
   ],
   "source": [
    "flt(x,y) = [(x-alpha)/(x+alpha),beta*y/(x+alpha)^3] # change of variables\n",
    "F(x,y) =x^6+5*x^4-5*x^2-1-y^2\n",
    "(F(*flt(x,y))*(x+alpha)^6/beta).full_simplify()"
   ]
  },
  {
   "cell_type": "code",
   "execution_count": null,
   "id": "03a9460a-5e02-423f-86ca-27d1f5a7701b",
   "metadata": {},
   "outputs": [],
   "source": []
  }
 ],
 "metadata": {
  "kernelspec": {
   "display_name": "SageMath 10.3",
   "language": "sage",
   "name": "sagemath"
  },
  "language_info": {
   "codemirror_mode": {
    "name": "ipython",
    "version": 3
   },
   "file_extension": ".py",
   "mimetype": "text/x-python",
   "name": "python",
   "nbconvert_exporter": "python",
   "pygments_lexer": "ipython3",
   "version": "3.11.9"
  }
 },
 "nbformat": 4,
 "nbformat_minor": 5
}
